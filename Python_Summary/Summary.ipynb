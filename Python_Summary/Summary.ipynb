{
  "nbformat": 4,
  "nbformat_minor": 0,
  "metadata": {
    "colab": {
      "name": "Lab_Omar1.ipynb",
      "provenance": []
    },
    "kernelspec": {
      "name": "python3",
      "display_name": "Python 3"
    },
    "language_info": {
      "name": "python"
    }
  },
  "cells": [
    {
      "cell_type": "code",
      "metadata": {
        "colab": {
          "base_uri": "https://localhost:8080/"
        },
        "id": "gH0HS-bDEdR4",
        "outputId": "ae749c01-ddde-4a86-e868-a11c3391a574"
      },
      "source": [
        "print(\"This is first time\")"
      ],
      "execution_count": 1,
      "outputs": [
        {
          "output_type": "stream",
          "text": [
            "This is first time\n"
          ],
          "name": "stdout"
        }
      ]
    },
    {
      "cell_type": "code",
      "metadata": {
        "colab": {
          "base_uri": "https://localhost:8080/"
        },
        "id": "QxqDI8Y-EsQo",
        "outputId": "321b313b-f574-4546-933e-6cd6f5e6aa4e"
      },
      "source": [
        "print('''This\n",
        "is\n",
        "first''')"
      ],
      "execution_count": 2,
      "outputs": [
        {
          "output_type": "stream",
          "text": [
            "This\n",
            "is\n",
            "first\n"
          ],
          "name": "stdout"
        }
      ]
    },
    {
      "cell_type": "code",
      "metadata": {
        "colab": {
          "base_uri": "https://localhost:8080/"
        },
        "id": "9E6lg7l3E1Ou",
        "outputId": "1f98960e-f2b2-4cff-b6a2-fa7b82229513"
      },
      "source": [
        "x=35.23412341242351245\n",
        "print(\"%0.2f\"%x)\n",
        "print(\"%0.5F\"%x)"
      ],
      "execution_count": 8,
      "outputs": [
        {
          "output_type": "stream",
          "text": [
            "35.23\n",
            "35.23412\n"
          ],
          "name": "stdout"
        }
      ]
    },
    {
      "cell_type": "code",
      "metadata": {
        "colab": {
          "base_uri": "https://localhost:8080/"
        },
        "id": "URfWYYt4FeVf",
        "outputId": "881a882d-3832-4e1b-9ba8-a291a0942978"
      },
      "source": [
        "type(x)"
      ],
      "execution_count": 9,
      "outputs": [
        {
          "output_type": "execute_result",
          "data": {
            "text/plain": [
              "float"
            ]
          },
          "metadata": {
            "tags": []
          },
          "execution_count": 9
        }
      ]
    },
    {
      "cell_type": "code",
      "metadata": {
        "colab": {
          "base_uri": "https://localhost:8080/"
        },
        "id": "44sYYiaPFiGl",
        "outputId": "3668f0a5-ccbc-4e5c-b1c5-b966c6ffba62"
      },
      "source": [
        "print(type(x))"
      ],
      "execution_count": 10,
      "outputs": [
        {
          "output_type": "stream",
          "text": [
            "<class 'float'>\n"
          ],
          "name": "stdout"
        }
      ]
    },
    {
      "cell_type": "code",
      "metadata": {
        "colab": {
          "base_uri": "https://localhost:8080/",
          "height": 35
        },
        "id": "-nVqT7VCFoGU",
        "outputId": "6d86659e-8eb8-482b-fa79-af14ee0bb2b2"
      },
      "source": [
        "import os\n",
        "os.getcwd()"
      ],
      "execution_count": 11,
      "outputs": [
        {
          "output_type": "execute_result",
          "data": {
            "application/vnd.google.colaboratory.intrinsic+json": {
              "type": "string"
            },
            "text/plain": [
              "'/content'"
            ]
          },
          "metadata": {
            "tags": []
          },
          "execution_count": 11
        }
      ]
    },
    {
      "cell_type": "code",
      "metadata": {
        "colab": {
          "base_uri": "https://localhost:8080/",
          "height": 35
        },
        "id": "oQxOhJOuFvwj",
        "outputId": "f497f0ff-3b1e-45ce-8a18-fae2aa19b078"
      },
      "source": [
        "import platform\n",
        "platform.platform()"
      ],
      "execution_count": 12,
      "outputs": [
        {
          "output_type": "execute_result",
          "data": {
            "application/vnd.google.colaboratory.intrinsic+json": {
              "type": "string"
            },
            "text/plain": [
              "'Linux-5.4.104+-x86_64-with-Ubuntu-18.04-bionic'"
            ]
          },
          "metadata": {
            "tags": []
          },
          "execution_count": 12
        }
      ]
    },
    {
      "cell_type": "code",
      "metadata": {
        "colab": {
          "base_uri": "https://localhost:8080/"
        },
        "id": "v9bM7r1fM6wS",
        "outputId": "de69197c-7ed6-4c89-c161-6a96ca5c243d"
      },
      "source": [
        "import keyword\n",
        "keyword.kwlist"
      ],
      "execution_count": 14,
      "outputs": [
        {
          "output_type": "execute_result",
          "data": {
            "text/plain": [
              "['False',\n",
              " 'None',\n",
              " 'True',\n",
              " 'and',\n",
              " 'as',\n",
              " 'assert',\n",
              " 'async',\n",
              " 'await',\n",
              " 'break',\n",
              " 'class',\n",
              " 'continue',\n",
              " 'def',\n",
              " 'del',\n",
              " 'elif',\n",
              " 'else',\n",
              " 'except',\n",
              " 'finally',\n",
              " 'for',\n",
              " 'from',\n",
              " 'global',\n",
              " 'if',\n",
              " 'import',\n",
              " 'in',\n",
              " 'is',\n",
              " 'lambda',\n",
              " 'nonlocal',\n",
              " 'not',\n",
              " 'or',\n",
              " 'pass',\n",
              " 'raise',\n",
              " 'return',\n",
              " 'try',\n",
              " 'while',\n",
              " 'with',\n",
              " 'yield']"
            ]
          },
          "metadata": {
            "tags": []
          },
          "execution_count": 14
        }
      ]
    },
    {
      "cell_type": "code",
      "metadata": {
        "colab": {
          "base_uri": "https://localhost:8080/"
        },
        "id": "V0wyMo5kNO_l",
        "outputId": "41b57a36-6a8c-4d18-878c-96f70e74ffb6"
      },
      "source": [
        "x=10\n",
        "y=20\n",
        "print(\"%d\"%x)\n",
        "print(\"%d\"%y)"
      ],
      "execution_count": 15,
      "outputs": [
        {
          "output_type": "stream",
          "text": [
            "10\n",
            "20\n"
          ],
          "name": "stdout"
        }
      ]
    },
    {
      "cell_type": "code",
      "metadata": {
        "colab": {
          "base_uri": "https://localhost:8080/"
        },
        "id": "WMH1A1puNZAd",
        "outputId": "d4aa6c6f-5474-446a-e4b5-c1d3eef22740"
      },
      "source": [
        "x,y=y,x\n",
        "x,y"
      ],
      "execution_count": 20,
      "outputs": [
        {
          "output_type": "execute_result",
          "data": {
            "text/plain": [
              "(20, 10)"
            ]
          },
          "metadata": {
            "tags": []
          },
          "execution_count": 20
        }
      ]
    },
    {
      "cell_type": "code",
      "metadata": {
        "colab": {
          "base_uri": "https://localhost:8080/"
        },
        "id": "Ohmc1lGfNhH9",
        "outputId": "d4548c37-6ad1-4bb3-afe4-e407e40c0de4"
      },
      "source": [
        "id(x) #Address of variable"
      ],
      "execution_count": 21,
      "outputs": [
        {
          "output_type": "execute_result",
          "data": {
            "text/plain": [
              "94050348055648"
            ]
          },
          "metadata": {
            "tags": []
          },
          "execution_count": 21
        }
      ]
    },
    {
      "cell_type": "code",
      "metadata": {
        "colab": {
          "base_uri": "https://localhost:8080/",
          "height": 35
        },
        "id": "RtN5o5kdSN2k",
        "outputId": "c984eea9-1a26-4367-d181-e186cc4f8eee"
      },
      "source": [
        "hex(id(x))"
      ],
      "execution_count": 22,
      "outputs": [
        {
          "output_type": "execute_result",
          "data": {
            "application/vnd.google.colaboratory.intrinsic+json": {
              "type": "string"
            },
            "text/plain": [
              "'0x5589cd963c60'"
            ]
          },
          "metadata": {
            "tags": []
          },
          "execution_count": 22
        }
      ]
    },
    {
      "cell_type": "code",
      "metadata": {
        "id": "Ck0gw__YSSWY"
      },
      "source": [
        "del(y)"
      ],
      "execution_count": 25,
      "outputs": []
    },
    {
      "cell_type": "code",
      "metadata": {
        "colab": {
          "base_uri": "https://localhost:8080/",
          "height": 35
        },
        "id": "bhDFzrkQXeMm",
        "outputId": "835bf97a-06c1-4ad9-e1a1-948597bde49d"
      },
      "source": [
        "s=r\"Yho\"\n",
        "s"
      ],
      "execution_count": 27,
      "outputs": [
        {
          "output_type": "execute_result",
          "data": {
            "application/vnd.google.colaboratory.intrinsic+json": {
              "type": "string"
            },
            "text/plain": [
              "'Yho'"
            ]
          },
          "metadata": {
            "tags": []
          },
          "execution_count": 27
        }
      ]
    },
    {
      "cell_type": "code",
      "metadata": {
        "colab": {
          "base_uri": "https://localhost:8080/",
          "height": 35
        },
        "id": "yYjqM1XxXikX",
        "outputId": "aa19a634-711c-4242-9636-6327af0a50df"
      },
      "source": [
        "s=\"python\"\n",
        "s[0:6:2]"
      ],
      "execution_count": 28,
      "outputs": [
        {
          "output_type": "execute_result",
          "data": {
            "application/vnd.google.colaboratory.intrinsic+json": {
              "type": "string"
            },
            "text/plain": [
              "'pto'"
            ]
          },
          "metadata": {
            "tags": []
          },
          "execution_count": 28
        }
      ]
    },
    {
      "cell_type": "code",
      "metadata": {
        "colab": {
          "base_uri": "https://localhost:8080/",
          "height": 35
        },
        "id": "YKsr_QnQXn4p",
        "outputId": "1404192c-8d52-4947-ea53-fdecb5c53579"
      },
      "source": [
        "s[::-1]"
      ],
      "execution_count": 30,
      "outputs": [
        {
          "output_type": "execute_result",
          "data": {
            "application/vnd.google.colaboratory.intrinsic+json": {
              "type": "string"
            },
            "text/plain": [
              "'nohtyp'"
            ]
          },
          "metadata": {
            "tags": []
          },
          "execution_count": 30
        }
      ]
    },
    {
      "cell_type": "code",
      "metadata": {
        "colab": {
          "base_uri": "https://localhost:8080/",
          "height": 35
        },
        "id": "BnW7jxWIXrcg",
        "outputId": "40f1a265-def7-4c56-dfba-7a17dba889a4"
      },
      "source": [
        "s*3"
      ],
      "execution_count": 31,
      "outputs": [
        {
          "output_type": "execute_result",
          "data": {
            "application/vnd.google.colaboratory.intrinsic+json": {
              "type": "string"
            },
            "text/plain": [
              "'pythonpythonpython'"
            ]
          },
          "metadata": {
            "tags": []
          },
          "execution_count": 31
        }
      ]
    },
    {
      "cell_type": "code",
      "metadata": {
        "colab": {
          "base_uri": "https://localhost:8080/"
        },
        "id": "bBHhtzoIXvb7",
        "outputId": "0270bba5-ca00-429d-cbf6-16114e57c4a0"
      },
      "source": [
        "s=\"python is fantastic\"\n",
        "s.split(\" \")"
      ],
      "execution_count": 33,
      "outputs": [
        {
          "output_type": "execute_result",
          "data": {
            "text/plain": [
              "['python', 'is', 'fantastic']"
            ]
          },
          "metadata": {
            "tags": []
          },
          "execution_count": 33
        }
      ]
    },
    {
      "cell_type": "code",
      "metadata": {
        "colab": {
          "base_uri": "https://localhost:8080/",
          "height": 35
        },
        "id": "03oKTf02X4u8",
        "outputId": "ff5ad387-beba-43ea-fc0c-a93f6d1929cd"
      },
      "source": [
        "'--'.join(['python', 'is', 'fantastic'])"
      ],
      "execution_count": 34,
      "outputs": [
        {
          "output_type": "execute_result",
          "data": {
            "application/vnd.google.colaboratory.intrinsic+json": {
              "type": "string"
            },
            "text/plain": [
              "'python--is--fantastic'"
            ]
          },
          "metadata": {
            "tags": []
          },
          "execution_count": 34
        }
      ]
    },
    {
      "cell_type": "code",
      "metadata": {
        "colab": {
          "base_uri": "https://localhost:8080/"
        },
        "id": "dbTQlchB93Cf",
        "outputId": "937e218d-51fc-4e0e-8663-df09bc19ab24"
      },
      "source": [
        "a=[10,8,9,1,12]\n",
        "b=a\n",
        "b[0]=100\n",
        "b,a"
      ],
      "execution_count": 35,
      "outputs": [
        {
          "output_type": "execute_result",
          "data": {
            "text/plain": [
              "([100, 8, 9, 1, 12], [100, 8, 9, 1, 12])"
            ]
          },
          "metadata": {
            "tags": []
          },
          "execution_count": 35
        }
      ]
    },
    {
      "cell_type": "code",
      "metadata": {
        "colab": {
          "base_uri": "https://localhost:8080/"
        },
        "id": "_kE8Pebi-Ej1",
        "outputId": "901e7848-6af7-43d9-92e1-13b580d5d698"
      },
      "source": [
        "a=[10,8,9,1,12]\n",
        "b=a[:]\n",
        "b[0]=100\n",
        "b,a"
      ],
      "execution_count": 36,
      "outputs": [
        {
          "output_type": "execute_result",
          "data": {
            "text/plain": [
              "([100, 8, 9, 1, 12], [10, 8, 9, 1, 12])"
            ]
          },
          "metadata": {
            "tags": []
          },
          "execution_count": 36
        }
      ]
    },
    {
      "cell_type": "code",
      "metadata": {
        "colab": {
          "base_uri": "https://localhost:8080/"
        },
        "id": "ZJbCk3PE-HaU",
        "outputId": "6079ddeb-6ba5-4087-9c5c-eec10ba24844"
      },
      "source": [
        "b.sort(reverse=True)\n",
        "b"
      ],
      "execution_count": 37,
      "outputs": [
        {
          "output_type": "execute_result",
          "data": {
            "text/plain": [
              "[100, 12, 9, 8, 1]"
            ]
          },
          "metadata": {
            "tags": []
          },
          "execution_count": 37
        }
      ]
    },
    {
      "cell_type": "code",
      "metadata": {
        "colab": {
          "base_uri": "https://localhost:8080/"
        },
        "id": "hkuAy4bQ-XZ0",
        "outputId": "43698dd2-b537-4b26-9ae7-5bb4768425d4"
      },
      "source": [
        "for i in enumerate(b):\n",
        "  print(i)"
      ],
      "execution_count": 38,
      "outputs": [
        {
          "output_type": "stream",
          "text": [
            "(0, 100)\n",
            "(1, 12)\n",
            "(2, 9)\n",
            "(3, 8)\n",
            "(4, 1)\n"
          ],
          "name": "stdout"
        }
      ]
    },
    {
      "cell_type": "code",
      "metadata": {
        "colab": {
          "base_uri": "https://localhost:8080/"
        },
        "id": "FwQFrJ_r-e3B",
        "outputId": "6ec6e26b-1463-4a01-991d-e40253db0349"
      },
      "source": [
        "for i in enumerate(b):\n",
        "  print(i[0])"
      ],
      "execution_count": 40,
      "outputs": [
        {
          "output_type": "stream",
          "text": [
            "0\n",
            "1\n",
            "2\n",
            "3\n",
            "4\n"
          ],
          "name": "stdout"
        }
      ]
    },
    {
      "cell_type": "code",
      "metadata": {
        "colab": {
          "base_uri": "https://localhost:8080/"
        },
        "id": "ir1XI84K-ncj",
        "outputId": "5556ee56-0c66-4d7f-93c4-c09c67dc81c6"
      },
      "source": [
        "for i in enumerate(b):\n",
        "  print(i[1])"
      ],
      "execution_count": 41,
      "outputs": [
        {
          "output_type": "stream",
          "text": [
            "100\n",
            "12\n",
            "9\n",
            "8\n",
            "1\n"
          ],
          "name": "stdout"
        }
      ]
    },
    {
      "cell_type": "code",
      "metadata": {
        "colab": {
          "base_uri": "https://localhost:8080/"
        },
        "id": "LlinpKDr-_eK",
        "outputId": "0038f2e7-a00b-48db-88c1-0a96544a546c"
      },
      "source": [
        "for k,i in enumerate(b):\n",
        "  print(\"index=%d str=%s\"%(k,i))"
      ],
      "execution_count": 44,
      "outputs": [
        {
          "output_type": "stream",
          "text": [
            "index=0 str=100\n",
            "index=1 str=12\n",
            "index=2 str=9\n",
            "index=3 str=8\n",
            "index=4 str=1\n"
          ],
          "name": "stdout"
        }
      ]
    },
    {
      "cell_type": "code",
      "metadata": {
        "colab": {
          "base_uri": "https://localhost:8080/"
        },
        "id": "6dCMtZ-N_ciy",
        "outputId": "c47005bf-6c1a-4ccb-fe2d-5562b661b9f8"
      },
      "source": [
        "a=[6,4,5,232,3]\n",
        "b=[i*i for i in a]\n",
        "b"
      ],
      "execution_count": 45,
      "outputs": [
        {
          "output_type": "execute_result",
          "data": {
            "text/plain": [
              "[36, 16, 25, 53824, 9]"
            ]
          },
          "metadata": {
            "tags": []
          },
          "execution_count": 45
        }
      ]
    },
    {
      "cell_type": "code",
      "metadata": {
        "colab": {
          "base_uri": "https://localhost:8080/"
        },
        "id": "rMAqiE1g_nzB",
        "outputId": "ce6a2746-2757-4b68-b072-53e811a0c925"
      },
      "source": [
        "a=[6,4,5,232,3]\n",
        "b=[i+2 for i in a]\n",
        "b"
      ],
      "execution_count": 46,
      "outputs": [
        {
          "output_type": "execute_result",
          "data": {
            "text/plain": [
              "[8, 6, 7, 234, 5]"
            ]
          },
          "metadata": {
            "tags": []
          },
          "execution_count": 46
        }
      ]
    },
    {
      "cell_type": "code",
      "metadata": {
        "colab": {
          "base_uri": "https://localhost:8080/"
        },
        "id": "Za2nHeljNVTp",
        "outputId": "1f3ee547-9e1e-4a80-cbfd-61b9e42cfd85"
      },
      "source": [
        "s={1,45345,7,89,3212,4534123,23423,234245,76,8,6,7,9,52,1,4,6,98,2,6,6,6,6,6,6}\n",
        "s"
      ],
      "execution_count": 47,
      "outputs": [
        {
          "output_type": "execute_result",
          "data": {
            "text/plain": [
              "{1, 2, 4, 6, 7, 8, 9, 52, 76, 89, 98, 3212, 23423, 45345, 234245, 4534123}"
            ]
          },
          "metadata": {
            "tags": []
          },
          "execution_count": 47
        }
      ]
    },
    {
      "cell_type": "code",
      "metadata": {
        "colab": {
          "base_uri": "https://localhost:8080/"
        },
        "id": "pMFIxINoNkQd",
        "outputId": "347d14bc-21e1-4f4f-e666-3b43ab452688"
      },
      "source": [
        "x=[6,34,3,5,5,7,4]\n",
        "a=set(x)\n",
        "a"
      ],
      "execution_count": 48,
      "outputs": [
        {
          "output_type": "execute_result",
          "data": {
            "text/plain": [
              "{3, 4, 5, 6, 7, 34}"
            ]
          },
          "metadata": {
            "tags": []
          },
          "execution_count": 48
        }
      ]
    },
    {
      "cell_type": "code",
      "metadata": {
        "colab": {
          "base_uri": "https://localhost:8080/"
        },
        "id": "FiE_Ti10kDiO",
        "outputId": "85494ac1-e04b-4e8e-f932-13846dfe8e31"
      },
      "source": [
        "a=[7,6,5,4,23,23,4,5]\n",
        "b=a.copy()\n",
        "b[2]=99\n",
        "b,a"
      ],
      "execution_count": 2,
      "outputs": [
        {
          "output_type": "execute_result",
          "data": {
            "text/plain": [
              "([7, 6, 99, 4, 23, 23, 4, 5], [7, 6, 5, 4, 23, 23, 4, 5])"
            ]
          },
          "metadata": {
            "tags": []
          },
          "execution_count": 2
        }
      ]
    },
    {
      "cell_type": "code",
      "metadata": {
        "colab": {
          "base_uri": "https://localhost:8080/"
        },
        "id": "k47ZIHbXkR7a",
        "outputId": "97da2e26-3d6e-4094-9ab0-7a5c44b1a461"
      },
      "source": [
        "import copy\n",
        "a=[4,5,6,7,2,5,6,[8,7]]\n",
        "b=copy.deepcopy(a)\n",
        "b[7][0]=667\n",
        "b[7][1]=78\n",
        "b"
      ],
      "execution_count": 5,
      "outputs": [
        {
          "output_type": "execute_result",
          "data": {
            "text/plain": [
              "[4, 5, 6, 7, 2, 5, 6, [667, 78]]"
            ]
          },
          "metadata": {
            "tags": []
          },
          "execution_count": 5
        }
      ]
    },
    {
      "cell_type": "code",
      "metadata": {
        "colab": {
          "base_uri": "https://localhost:8080/"
        },
        "id": "fMh9WBfHlNoo",
        "outputId": "3c55f5bb-018e-44a0-d719-5df7bafd9603"
      },
      "source": [
        "def add(x,y):\n",
        "  z=x+y\n",
        "  print(z)\n",
        "add(3,4)"
      ],
      "execution_count": 7,
      "outputs": [
        {
          "output_type": "stream",
          "text": [
            "7\n"
          ],
          "name": "stdout"
        }
      ]
    },
    {
      "cell_type": "code",
      "metadata": {
        "colab": {
          "base_uri": "https://localhost:8080/"
        },
        "id": "EtC-4KvHlcZP",
        "outputId": "3b4d5bd7-6096-42df-d0bd-ef6edab4d6d1"
      },
      "source": [
        "def sum(x,y=6):\n",
        "  z=x+y\n",
        "  print(z)\n",
        "sum(3)"
      ],
      "execution_count": 12,
      "outputs": [
        {
          "output_type": "stream",
          "text": [
            "9\n"
          ],
          "name": "stdout"
        }
      ]
    },
    {
      "cell_type": "code",
      "metadata": {
        "colab": {
          "base_uri": "https://localhost:8080/"
        },
        "id": "9RXZG9XfqxJx",
        "outputId": "d11e09a8-100b-46fc-f7e6-b4eefa9a3074"
      },
      "source": [
        "def sum2(*arg):\n",
        "  sum = 0\n",
        "  for i in arg :\n",
        "    sum = sum + i\n",
        "  return arg,sum\n",
        "sum2(10,20,30,45,6,65756,56756,43)\n"
      ],
      "execution_count": 26,
      "outputs": [
        {
          "output_type": "execute_result",
          "data": {
            "text/plain": [
              "((10, 20, 30, 45, 6, 65756, 56756, 43), 122666)"
            ]
          },
          "metadata": {
            "tags": []
          },
          "execution_count": 26
        }
      ]
    },
    {
      "cell_type": "code",
      "metadata": {
        "colab": {
          "base_uri": "https://localhost:8080/"
        },
        "id": "C3TSwv0Kr4Ab",
        "outputId": "25ec105a-f9a5-45a5-e6ff-443bd36ead83"
      },
      "source": [
        "def sum2(a,b,*arg):\n",
        "  sum = 0 \n",
        "  for i in arg :\n",
        "    sum = sum + i \n",
        "  return arg[0:2],sum,arg[8],arg[4]\n",
        "_,s,_,_=sum2(10,20,40,5,5,6,7,8,9,4,4,5,33,1,2,34,5,6,7,8,9,0,4,121,132,3,4,6,8,9,0,22)\n",
        "print(a,b,s)"
      ],
      "execution_count": 41,
      "outputs": [
        {
          "output_type": "stream",
          "text": [
            "[4, 5, 6, 7, 2, 5, 6, [8, 7]] [4, 5, 6, 7, 2, 5, 6, [667, 78]] 507\n"
          ],
          "name": "stdout"
        }
      ]
    },
    {
      "cell_type": "code",
      "metadata": {
        "colab": {
          "base_uri": "https://localhost:8080/"
        },
        "id": "aHSaRYBit2xG",
        "outputId": "4e29d56b-0f61-49ac-f751-fd448d791a7e"
      },
      "source": [
        "def f(a=12,b=9,*arg,**arg1):\n",
        "  print(\"a:%d\"%a)\n",
        "  print(\"b:%d\"%b)\n",
        "  print(\"arg:\",arg)\n",
        "  for key,values in arg1.items():\n",
        "    print(\"%s %s\"%(key,values))\n",
        "f(1,2,3,4,6,cat='animal',dog='animal')"
      ],
      "execution_count": 57,
      "outputs": [
        {
          "output_type": "stream",
          "text": [
            "a:1\n",
            "b:2\n",
            "arg: (3, 4, 6)\n",
            "cat animal\n",
            "dog animal\n"
          ],
          "name": "stdout"
        }
      ]
    },
    {
      "cell_type": "code",
      "metadata": {
        "colab": {
          "base_uri": "https://localhost:8080/"
        },
        "id": "mbLht1m71zhY",
        "outputId": "c8629907-60bd-415b-a79c-7a0edd7b6d0e"
      },
      "source": [
        "a = lambda x:x+1\n",
        "a(1)"
      ],
      "execution_count": 58,
      "outputs": [
        {
          "output_type": "execute_result",
          "data": {
            "text/plain": [
              "2"
            ]
          },
          "metadata": {
            "tags": []
          },
          "execution_count": 58
        }
      ]
    },
    {
      "cell_type": "code",
      "metadata": {
        "colab": {
          "base_uri": "https://localhost:8080/"
        },
        "id": "Vo2HY8Mi190h",
        "outputId": "a07178b5-856f-4687-9252-9c90d3af5e0e"
      },
      "source": [
        "a = lambda x,y:x+y\n",
        "a(3,4)"
      ],
      "execution_count": 59,
      "outputs": [
        {
          "output_type": "execute_result",
          "data": {
            "text/plain": [
              "7"
            ]
          },
          "metadata": {
            "tags": []
          },
          "execution_count": 59
        }
      ]
    },
    {
      "cell_type": "code",
      "metadata": {
        "colab": {
          "base_uri": "https://localhost:8080/"
        },
        "id": "you0la_42Nqe",
        "outputId": "a947c036-2cee-4312-a30b-de48961fc6aa"
      },
      "source": [
        "x=[1,2,3]\n",
        "y=['a','n','b']\n",
        "for i in zip(x,y):\n",
        "  print(i)\n"
      ],
      "execution_count": 60,
      "outputs": [
        {
          "output_type": "stream",
          "text": [
            "(1, 'a')\n",
            "(2, 'n')\n",
            "(3, 'b')\n"
          ],
          "name": "stdout"
        }
      ]
    },
    {
      "cell_type": "code",
      "metadata": {
        "colab": {
          "base_uri": "https://localhost:8080/"
        },
        "id": "HWlF34JT2n3i",
        "outputId": "944d5c11-6012-40db-ea7c-25bfd0de589d"
      },
      "source": [
        "print(*map(lambda x:x*x,[1,2,3]))"
      ],
      "execution_count": 61,
      "outputs": [
        {
          "output_type": "stream",
          "text": [
            "1 4 9\n"
          ],
          "name": "stdout"
        }
      ]
    },
    {
      "cell_type": "code",
      "metadata": {
        "colab": {
          "base_uri": "https://localhost:8080/"
        },
        "id": "7rAuXsv-23jB",
        "outputId": "bceb59a3-7084-4181-cff3-20baa110b1c4"
      },
      "source": [
        "print(*filter(lambda x: x%2==1, [1,2,3]))"
      ],
      "execution_count": 62,
      "outputs": [
        {
          "output_type": "stream",
          "text": [
            "1 3\n"
          ],
          "name": "stdout"
        }
      ]
    }
  ]
}